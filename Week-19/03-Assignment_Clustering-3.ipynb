{
 "cells": [
  {
   "cell_type": "markdown",
   "metadata": {},
   "source": [
    "## **Q1:-** \n",
    "### **Explain the basic concept of clustering and give examples of applications where clustering is useful.**"
   ]
  },
  {
   "cell_type": "markdown",
   "metadata": {},
   "source": [
    "### **Ans:-**"
   ]
  },
  {
   "cell_type": "markdown",
   "metadata": {},
   "source": [
    "### **Clustering is the process of making a group of abstract objects into classes of similar objects. A cluster of data objects can be treated as one group. While doing cluster analysis, we first partition the set of data into groups based on data similarity and then assign the labels to the groups.**"
   ]
  },
  {
   "cell_type": "markdown",
   "metadata": {},
   "source": [
    "## **Q2:-** \n",
    "### **What is DBSCAN and how does it differ from other clustering algorithms such as k-means and hierarchical clustering?**"
   ]
  },
  {
   "cell_type": "markdown",
   "metadata": {},
   "source": [
    "### **Ans:-**"
   ]
  },
  {
   "cell_type": "markdown",
   "metadata": {},
   "source": [
    "### **DBSCAN can identify clusters in a large spatial dataset by looking at the local density of corresponding elements. The advantage of the DBSCAN algorithm over the K-Means algorithm, is that the DBSCAN can determine which data points are noise or outliers.**"
   ]
  },
  {
   "cell_type": "markdown",
   "metadata": {},
   "source": [
    "## **Q3:-** \n",
    "### **How do you determine the optimal values for the epsilon and minimum points parameters in DBSCAN clustering?**"
   ]
  },
  {
   "cell_type": "markdown",
   "metadata": {},
   "source": [
    "### **Ans:-**"
   ]
  },
  {
   "cell_type": "markdown",
   "metadata": {},
   "source": [
    "### **Step 1: Calculate the average distance between each point in the data set and its 20 nearest neighbors (my selected MinPts value)**\n",
    "### **Step 2: Sort distance values by ascending value and plot. The ideal value for ε will be equal to the distance value at the “crook of the elbow”, or the point of maximum curvature**\n"
   ]
  },
  {
   "cell_type": "markdown",
   "metadata": {},
   "source": [
    "## **Q4:-** \n",
    "### **How does DBSCAN clustering handle outliers in a dataset?**"
   ]
  },
  {
   "cell_type": "markdown",
   "metadata": {},
   "source": [
    "### **Ans:-**"
   ]
  },
  {
   "cell_type": "markdown",
   "metadata": {},
   "source": [
    "### **In summary, DBSCAN is a powerful clustering algorithm that can be used for outlier detection in machine learning. It works by finding clusters of points based on their density and labeling points that do not belong to any cluster as outliers**"
   ]
  },
  {
   "cell_type": "markdown",
   "metadata": {},
   "source": [
    "## **Q5:-** \n",
    "### **How does DBSCAN clustering differ from k-means clustering?**"
   ]
  },
  {
   "cell_type": "markdown",
   "metadata": {},
   "source": [
    "### **Ans:-**"
   ]
  },
  {
   "cell_type": "markdown",
   "metadata": {},
   "source": [
    "### **K-means needs a prototype-based concept of a cluster. DBSCAN needs a density-based concept. K-means has difficulty with non-globular clusters and clusters of multiple sizes. DBSCAN is used to handle clusters of multiple sizes and structures and is not powerfully influenced by noise or outliers**"
   ]
  },
  {
   "cell_type": "markdown",
   "metadata": {},
   "source": [
    "## **Q6:-** \n",
    "### **Can DBSCAN clustering be applied to datasets with high dimensional feature spaces? If so, what are some potential challenges?**"
   ]
  },
  {
   "cell_type": "markdown",
   "metadata": {},
   "source": [
    "### **Ans:-**"
   ]
  },
  {
   "cell_type": "markdown",
   "metadata": {},
   "source": [
    "### **DBSCAN is very bad when the different clusters in your data have different densities. It also needs a careful selection of its parameters. If DBSCAN fails and you need a clustering algorithm that automatically detects the number of clusters in your dataset you can try Mean-Shift clustering.**"
   ]
  },
  {
   "cell_type": "markdown",
   "metadata": {},
   "source": [
    "## **Q7:-** \n",
    "### **How does DBSCAN clustering handle clusters with varying densities?**"
   ]
  },
  {
   "cell_type": "markdown",
   "metadata": {},
   "source": [
    "### **Ans:-**"
   ]
  },
  {
   "cell_type": "markdown",
   "metadata": {},
   "source": [
    "### **DBSCAN can find clusters of arbitrary shapes, but it cannot handle data containing clusters of varying densities. Further, the cluster quality in DBSCAN algorithm depends on the ability of the user to select a good set of parameters.**"
   ]
  },
  {
   "cell_type": "markdown",
   "metadata": {},
   "source": [
    "## **Q8:-**\n",
    "### **What are some common evaluation metrics used to assess the quality of DBSCAN clustering results?**"
   ]
  },
  {
   "cell_type": "markdown",
   "metadata": {},
   "source": [
    "### **Ans:-**"
   ]
  },
  {
   "cell_type": "markdown",
   "metadata": {},
   "source": [
    "### **If the true cluster labels are unknown, as was the case with my data set, the model itself must be used to evaluate performance. An example of this type of evaluation is the Silhouette Coefficient. The Silhouette Coefficient is bounded between 1 and -1. The best value is 1, the worst is -1.**"
   ]
  },
  {
   "cell_type": "markdown",
   "metadata": {},
   "source": [
    "## **Q9:-** \n",
    "### **Can DBSCAN clustering be used for semi-supervised learning tasks?**"
   ]
  },
  {
   "cell_type": "markdown",
   "metadata": {},
   "source": [
    "### **Ans:-**"
   ]
  },
  {
   "cell_type": "markdown",
   "metadata": {},
   "source": [
    "### **DBSCAN and other 'unsupervised' clustering methods can be used to automatically propagate labels used by classifiers (a 'supervised' machine learning task) in what as known as 'semi-supervised' machine learning**"
   ]
  },
  {
   "cell_type": "markdown",
   "metadata": {},
   "source": [
    "## **Q10:-**\n",
    "### **How does DBSCAN clustering handle datasets with noise or missing values?**"
   ]
  },
  {
   "cell_type": "markdown",
   "metadata": {},
   "source": [
    "### **Ans:-**"
   ]
  },
  {
   "cell_type": "markdown",
   "metadata": {},
   "source": [
    "### **DBSCAN is built on the premise that within each cluster we have a high-density of points compared to the points outside of the cluster. The density within the areas of noise is lower than the density in any of the clusters. Some of the points will be close to each other based on a distance measure called core samples.**"
   ]
  },
  {
   "cell_type": "markdown",
   "metadata": {},
   "source": [
    "## **Q11:-**\n",
    "### **Implement the DBSCAN algorithm using a python programming language, and apply it to a sample dataset. Discuss the clustering results and interpret the meaning of the obtained clusters.**"
   ]
  },
  {
   "cell_type": "markdown",
   "metadata": {},
   "source": [
    "### **Ans:-**"
   ]
  },
  {
   "cell_type": "code",
   "execution_count": 3,
   "metadata": {},
   "outputs": [
    {
     "name": "stdout",
     "output_type": "stream",
     "text": [
      "Cluster labels: [ 1.  2.  3.  5.  6. -1.]\n",
      "Points labeled as Noise: 1\n",
      "Cluster 1.0:\n",
      "[[1 2]]\n",
      "Cluster 2.0:\n",
      "[[2 2]]\n",
      "Cluster 3.0:\n",
      "[[2 3]]\n",
      "Cluster 5.0:\n",
      "[[8 7]]\n",
      "Cluster 6.0:\n",
      "[[8 8]]\n"
     ]
    }
   ],
   "source": [
    "import numpy as np\n",
    "\n",
    "class DBSCAN:\n",
    "    def __init__(self, eps, min_samples):\n",
    "        self.eps = eps\n",
    "        self.min_samples = min_samples\n",
    "\n",
    "    def fit(self, X):\n",
    "        self.X = X\n",
    "        self.labels = np.zeros(X.shape[0])\n",
    "        self.cluster_id = 0\n",
    "\n",
    "        for i in range(X.shape[0]):\n",
    "            if self.labels[i] == 0:\n",
    "                if self.expand_cluster(i):\n",
    "                    self.cluster_id += 1\n",
    "\n",
    "    def expand_cluster(self, index):\n",
    "        neighbors = self.region_query(index)\n",
    "        if len(neighbors) < self.min_samples:\n",
    "            self.labels[index] = -1  # Noise point\n",
    "            return False\n",
    "        else:\n",
    "            self.cluster_id += 1\n",
    "            self.labels[index] = self.cluster_id\n",
    "            for neighbor in neighbors:\n",
    "                if self.labels[neighbor] == 0 or self.labels[neighbor] == -1:\n",
    "                    self.labels[neighbor] = self.cluster_id\n",
    "                    if self.expand_cluster(neighbor):\n",
    "                        return True\n",
    "            return True\n",
    "\n",
    "    def region_query(self, index):\n",
    "        neighbors = []\n",
    "        for i in range(self.X.shape[0]):\n",
    "            if np.linalg.norm(self.X[index] - self.X[i]) < self.eps:\n",
    "                neighbors.append(i)\n",
    "        return neighbors\n",
    "\n",
    "# Sample dataset\n",
    "data = np.array([[1, 2], [2, 2], [2, 3], [8, 7], [8, 8], [25, 80]])\n",
    "\n",
    "# Instantiate and fit DBSCAN\n",
    "eps = 3\n",
    "min_samples = 2\n",
    "dbscan = DBSCAN(eps, min_samples)\n",
    "dbscan.fit(data)\n",
    "\n",
    "# Get cluster labels\n",
    "cluster_labels = dbscan.labels\n",
    "\n",
    "print(\"Cluster labels:\", cluster_labels)\n",
    "# Interpretation of clusters\n",
    "unique_labels = np.unique(cluster_labels)\n",
    "for label in unique_labels:\n",
    "    if label == -1:\n",
    "        print(f\"Points labeled as Noise: {sum(cluster_labels == -1)}\")\n",
    "    else:\n",
    "        print(f\"Cluster {label}:\")\n",
    "        cluster_points = data[cluster_labels == label]\n",
    "        print(cluster_points)\n"
   ]
  }
 ],
 "metadata": {
  "kernelspec": {
   "display_name": "Python 3",
   "language": "python",
   "name": "python3"
  },
  "language_info": {
   "codemirror_mode": {
    "name": "ipython",
    "version": 3
   },
   "file_extension": ".py",
   "mimetype": "text/x-python",
   "name": "python",
   "nbconvert_exporter": "python",
   "pygments_lexer": "ipython3",
   "version": "3.11.3"
  },
  "orig_nbformat": 4
 },
 "nbformat": 4,
 "nbformat_minor": 2
}
