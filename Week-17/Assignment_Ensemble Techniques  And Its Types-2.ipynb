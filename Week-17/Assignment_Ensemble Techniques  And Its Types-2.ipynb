{
 "cells": [
  {
   "cell_type": "markdown",
   "metadata": {},
   "source": [
    "## **Q1:-** \n",
    "### **How does bagging reduce overfitting in decision trees?**"
   ]
  },
  {
   "cell_type": "markdown",
   "metadata": {},
   "source": [
    "### **Ans:-**"
   ]
  },
  {
   "cell_type": "markdown",
   "metadata": {},
   "source": [
    "### **Bagging attempts to reduce the chance of overfitting complex models. It trains a large number of “strong” learners in parallel. A strong learner is a model that's relatively unconstrained. Bagging then combines all the strong learners together in order to “smooth out” their predictions.**"
   ]
  },
  {
   "cell_type": "markdown",
   "metadata": {},
   "source": [
    "## **Q2:-** \n",
    "### **What are the advantages and disadvantages of using different types of base learners in bagging?**"
   ]
  },
  {
   "cell_type": "markdown",
   "metadata": {},
   "source": [
    "### **Ans:-**"
   ]
  },
  {
   "cell_type": "markdown",
   "metadata": {},
   "source": [
    "### **Bagging offers the advantage of allowing many weak learners to combine efforts to outdo a single strong learner. It also helps in the reduction of variance, hence eliminating the overfitting of models in the procedure. One disadvantage of bagging is that it introduces a loss of interpretability of a model.**"
   ]
  },
  {
   "cell_type": "markdown",
   "metadata": {},
   "source": [
    "## **Q3:-** \n",
    "### **How does the choice of base learner affect the bias-variance tradeoff in bagging?**"
   ]
  },
  {
   "cell_type": "markdown",
   "metadata": {},
   "source": [
    "### **Ans:-**"
   ]
  },
  {
   "cell_type": "markdown",
   "metadata": {},
   "source": [
    "### **Ans:-**"
   ]
  },
  {
   "cell_type": "markdown",
   "metadata": {},
   "source": [
    "### **One way of resolving the trade-off is to use mixture models and ensemble learning. For example, boosting combines many \"weak\" (high bias) models in an ensemble that has lower bias than the individual models, while bagging combines \"strong\" learners in a way that reduces their variance.**"
   ]
  },
  {
   "cell_type": "markdown",
   "metadata": {},
   "source": [
    "## **Q4:-** \n",
    "### **Can bagging be used for both classification and regression tasks? How does it differ in each case?**"
   ]
  },
  {
   "cell_type": "markdown",
   "metadata": {},
   "source": [
    "### **Ans:-**"
   ]
  },
  {
   "cell_type": "markdown",
   "metadata": {},
   "source": [
    "### **It is used to deal with bias-variance trade-offs and reduces the variance of a prediction model. Bagging avoids overfitting of data and is used for both regression and classification models, specifically for decision tree algorithms.**"
   ]
  },
  {
   "cell_type": "markdown",
   "metadata": {},
   "source": [
    "## **Q5:-**\n",
    "### **What is the role of ensemble size in bagging? How many models should be included in the ensemble?**"
   ]
  },
  {
   "cell_type": "markdown",
   "metadata": {},
   "source": [
    "### **Ans:-**"
   ]
  },
  {
   "cell_type": "markdown",
   "metadata": {},
   "source": [
    "### **1.Improvement in Stability and Generalization:**\n",
    "#### As you increase the ensemble size, bagging tends to improve the stability and generalization of the model. This means that the ensemble becomes less sensitive to the noise and fluctuations in the training data, reducing overfitting and making the model more robust."
   ]
  },
  {
   "cell_type": "markdown",
   "metadata": {},
   "source": [
    "### **2.Diminishing Returns:-**\n",
    "#### However, there is a point of diminishing returns. Increasing the ensemble size indefinitely does not necessarily lead to a proportionate improvement in performance. There's a trade-off between computational cost and the marginal improvement in performance"
   ]
  },
  {
   "cell_type": "markdown",
   "metadata": {},
   "source": [
    "### **3.Computational Cost:-** \n",
    "#### Building and training a larger ensemble with more base models can be computationally expensive. This may not be practical in situations where computational resources are limited."
   ]
  },
  {
   "cell_type": "markdown",
   "metadata": {},
   "source": [
    "### **4.Bias-Variance Trade-off:-**\n",
    "#### The choice of ensemble size can also be seen as a bias-variance trade-off. Smaller ensembles (with fewer base models) tend to have higher bias and lower variance, making them simpler and potentially less prone to overfitting. Larger ensembles (with more base models) have lower bias but can have higher variance."
   ]
  },
  {
   "cell_type": "markdown",
   "metadata": {},
   "source": [
    "### **5.Rule of Thumb:-**\n",
    "#### There is no one-size-fits-all answer to how many models should be included in the ensemble. It depends on the specific problem, the quality of the base models, and the computational resources available. A common rule of thumb is to start with an ensemble size that is large enough to see a significant reduction in variance (improved generalization) compared to a single model but not so large that it becomes computationally prohibitive. Typically, ensemble sizes between 10 and 100 base models are common."
   ]
  },
  {
   "cell_type": "markdown",
   "metadata": {},
   "source": [
    "### **6.Cross-Validation:-**  \n",
    "#### Cross-validation can be used to tune the ensemble size. You can experiment with different ensemble sizes and evaluate their performance on a validation set to determine the optimal size for your specific problem."
   ]
  },
  {
   "cell_type": "markdown",
   "metadata": {},
   "source": [
    "## **Q6:-** \n",
    "### **Can you provide an example of a real-world application of bagging in machine learning?**"
   ]
  },
  {
   "cell_type": "markdown",
   "metadata": {},
   "source": [
    "### **Ans:-**"
   ]
  },
  {
   "cell_type": "markdown",
   "metadata": {},
   "source": [
    "### **Random Forest:**\n",
    "#### **Random Forest is an example of bagging ensemble learning. In the Random Forest algorithm, the base learners are only Decision Trees. Random Forest uses bagging along with column sampling to form a robust model.**"
   ]
  }
 ],
 "metadata": {
  "language_info": {
   "name": "python"
  },
  "orig_nbformat": 4
 },
 "nbformat": 4,
 "nbformat_minor": 2
}
