{
 "cells": [
  {
   "cell_type": "markdown",
   "metadata": {},
   "source": [
    "## **Q1:-** \n",
    "### **What is Bayes' theorem?**"
   ]
  },
  {
   "cell_type": "markdown",
   "metadata": {},
   "source": [
    "### **Ans:-**"
   ]
  },
  {
   "cell_type": "markdown",
   "metadata": {},
   "source": [
    "### **Bayes' Theorem states that the conditional probability of an event, based on the occurrence of another event, is equal to the likelihood of the second event given the first event multiplied by the probability of the first event.**"
   ]
  },
  {
   "cell_type": "markdown",
   "metadata": {},
   "source": [
    "## **Q2:-** \n",
    "### **What is the formula for Bayes' theorem?**"
   ]
  },
  {
   "cell_type": "markdown",
   "metadata": {},
   "source": [
    "### **Ans:-**"
   ]
  },
  {
   "cell_type": "markdown",
   "metadata": {},
   "source": [
    "### **The formula for the Bayes theorem can be written in a variety of ways. The following is the most common version:**\n",
    "### **P(A ∣ B) = P(B ∣ A)P(A) / P(B)**\n",
    "\n",
    "#### P(A ∣ B) is the conditional probability of event A occurring, given that B is true.\n",
    "\n",
    "#### P(B ∣ A) is the conditional probability of event B occurring, given that A is true.\n",
    "\n",
    "#### P(A) and P(B) are the probabilities of A and B occurring independently of one another**"
   ]
  },
  {
   "cell_type": "markdown",
   "metadata": {},
   "source": [
    "## **Q3:-** \n",
    "### **How is Bayes' theorem used in practice?**"
   ]
  },
  {
   "cell_type": "markdown",
   "metadata": {},
   "source": [
    "### **Ans:-**"
   ]
  },
  {
   "cell_type": "markdown",
   "metadata": {},
   "source": [
    "### **Applications of Bayes' Theorem are widespread and not limited to the financial realm. For example, Bayes' theorem can be used to determine the accuracy of medical test results by taking into consideration how likely any given person is to have a disease and the general accuracy of the test.**"
   ]
  },
  {
   "cell_type": "markdown",
   "metadata": {},
   "source": [
    "## **Q4:-**  \n",
    "### **What is the relationship between Bayes' theorem and conditional probability?**"
   ]
  },
  {
   "cell_type": "markdown",
   "metadata": {},
   "source": [
    "### **Ans:-**"
   ]
  },
  {
   "cell_type": "markdown",
   "metadata": {},
   "source": [
    "### **Bayes' Theorem states that the conditional probability of an event, based on the occurrence of another event, is equal to the likelihood of the second event given the first event multiplied by the probability of the first event.**"
   ]
  },
  {
   "cell_type": "markdown",
   "metadata": {},
   "source": [
    "## **Q5:-**  \n",
    "### **How do you choose which type of Naive Bayes classifier to use for any given problem?**"
   ]
  },
  {
   "cell_type": "markdown",
   "metadata": {},
   "source": [
    "### **Ans:-**"
   ]
  },
  {
   "cell_type": "markdown",
   "metadata": {},
   "source": [
    "### **This estimation depends both on the type of the feature (e.g., discrete or continuous) and the probability distribution we assume that it has. The assumptions on the distribution of the features are called event models. Each event model leads to a different type of Naive Bayes classifier.**"
   ]
  },
  {
   "cell_type": "markdown",
   "metadata": {},
   "source": [
    "## **Q6:-** \n",
    "### **You have a dataset with two features, X1 and X2, and two possible classes, A and B. You want to use Naive Bayes to classify a new instance with features X1 = 3 and X2 = 4. The following table shows the frequency of each feature value for each class:**"
   ]
  },
  {
   "cell_type": "markdown",
   "metadata": {},
   "source": [
    "### Class X1=1 X1=2 X1=3 X2=1 X2=2 X2=3 X2=4\n",
    "###       A 3 3 4 4 3 3 3\n",
    "###       B 2 2 1 2 2 2 3\n",
    "### **Assuming equal prior probabilities for each class, which class would Naive Bayes predict the new instance to belong to?**"
   ]
  },
  {
   "cell_type": "markdown",
   "metadata": {},
   "source": [
    "### **Ans:-**"
   ]
  },
  {
   "cell_type": "markdown",
   "metadata": {},
   "source": [
    "### **1.Calculate the likelihood for each class based on the given frequency table:**\n",
    "\n",
    "#### **For Class A:**\n",
    "\n",
    "#### P(X1 = 3 | Class = A) = 4/10\n",
    "#### P(X2 = 4 | Class = A) = 3/10\n",
    "#### For Class B:\n",
    "\n",
    "#### P(X1 = 3 | Class = B) = 1/9\n",
    "#### P(X2 = 4 | Class = B) = 3/9"
   ]
  },
  {
   "cell_type": "markdown",
   "metadata": {},
   "source": [
    "### **2.Calculate the prior probabilities, assuming they are equal:**\n",
    "\n",
    "#### P(Class = A) = 0.5 (since we assume equal prior probabilities for A and B)\n",
    "#### P(Class = B) = 0.5"
   ]
  },
  {
   "cell_type": "markdown",
   "metadata": {},
   "source": [
    "### **Calculate the posterior probabilities using Bayes' theorem:**\n",
    "\n",
    "#### For Class A:\n",
    "#### P(Class = A | X1 = 3, X2 = 4) ∝ P(Class = A) * P(X1 = 3 | Class = A) * P(X2 = 4 | Class = A) = 0.5 * (4/10) * (3/10) = 0.06\n",
    "\n",
    "#### For Class B:\n",
    "#### P(Class = B | X1 = 3, X2 = 4) ∝ P(Class = B) * P(X1 = 3 | Class = B) * P(X2 = 4 | Class = B) = 0.5 * (1/9) * (3/9) = 0.01667**"
   ]
  },
  {
   "cell_type": "markdown",
   "metadata": {},
   "source": [
    "#### **Since the posterior probability for Class A (0.06) is higher than that for Class B (0.01667), the Naive Bayes classifier would predict that the new instance with features X1 = 3 and X2 = 4 belongs to Class A.**"
   ]
  }
 ],
 "metadata": {
  "language_info": {
   "name": "python"
  },
  "orig_nbformat": 4
 },
 "nbformat": 4,
 "nbformat_minor": 2
}
