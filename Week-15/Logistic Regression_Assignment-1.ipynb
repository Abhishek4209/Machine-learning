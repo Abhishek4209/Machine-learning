{
 "cells": [
  {
   "cell_type": "markdown",
   "metadata": {},
   "source": [
    "## **Q1:-**\n",
    "### **Explain the difference between linear regression and logistic regression models. Provide an example of a scenario where logistic regression would be more appropriate.**"
   ]
  },
  {
   "cell_type": "markdown",
   "metadata": {},
   "source": [
    "### **Ans:-**"
   ]
  },
  {
   "cell_type": "markdown",
   "metadata": {},
   "source": [
    "### **Linear regression is used to estimate the dependent variable in case of a change in independent variables. For example, predict the price of houses. Whereas logistic regression is used to calculate the probability of an event. For example, classify if tissue is benign or malignant.**"
   ]
  },
  {
   "cell_type": "markdown",
   "metadata": {},
   "source": [
    "## **Q2:-** \n",
    "### **What is the cost function used in logistic regression, and how is it optimized?**"
   ]
  },
  {
   "cell_type": "markdown",
   "metadata": {},
   "source": [
    "### **Ans:-**"
   ]
  },
  {
   "cell_type": "markdown",
   "metadata": {},
   "source": [
    "### **Logistic Regression the cost function we use is also known as the cross entropy or the log loss. Case 1: If y = 1, that is the true label of the class is 1. Cost = 0 if the predicted value of the label is 1 as well**"
   ]
  },
  {
   "cell_type": "markdown",
   "metadata": {},
   "source": [
    "## **Q3:-** \n",
    "### **Explain the concept of regularization in logistic regression and how it helps prevent overfitting.**"
   ]
  },
  {
   "cell_type": "markdown",
   "metadata": {},
   "source": [
    "### **Ans:-**"
   ]
  },
  {
   "cell_type": "markdown",
   "metadata": {},
   "source": [
    "### **Regularization helps you avoid overfitting by adding a penalty term to the cost function of your model, which measures how well your model fits the data. The penalty term reduces the complexity of your model by shrinking or eliminating some of the coefficients of your input variables.**"
   ]
  },
  {
   "cell_type": "markdown",
   "metadata": {},
   "source": [
    "## **Q4:-** \n",
    "### **What is the ROC curve, and how is it used to evaluate the performance of the logistic regression model?**"
   ]
  },
  {
   "cell_type": "markdown",
   "metadata": {},
   "source": [
    "### **Ans:-**"
   ]
  },
  {
   "cell_type": "markdown",
   "metadata": {},
   "source": [
    "### **The RoC curve is a powerful visualization tool that can help us evaluate the performance of a binary classifier. It plots the true positive rate against the false positive rate at various threshold settings, allowing us to see how well the model is able to distinguish between positive and negative classes.**"
   ]
  },
  {
   "cell_type": "markdown",
   "metadata": {},
   "source": [
    "## **Q5:-** \n",
    "### **What are some common techniques for feature selection in logistic regression? How do these techniques help improve the model's performance?**"
   ]
  },
  {
   "cell_type": "markdown",
   "metadata": {},
   "source": [
    "### **Ans:-**"
   ]
  },
  {
   "cell_type": "markdown",
   "metadata": {},
   "source": [
    "### **Filter approach to feature selection involves using statistical tests or heuristics to select the most relevant features for a predictive model. The goal is to select features that are highly correlated with the target variable, as these are likely to be the most useful for prediction.**"
   ]
  },
  {
   "cell_type": "markdown",
   "metadata": {},
   "source": [
    "## **Q6:-**\n",
    "### **How can you handle imbalanced datasets in logistic regression? What are some strategies for dealing with class imbalance?**"
   ]
  },
  {
   "cell_type": "markdown",
   "metadata": {},
   "source": [
    "### **Ans:-**"
   ]
  },
  {
   "cell_type": "markdown",
   "metadata": {},
   "source": [
    "### **We explored 5 different methods for dealing with imbalanced datasets:**\n",
    "#### 1.Change the performance metric.\n",
    "#### 2.Change the algorithm.\n",
    "#### 3.Oversample minority class.\n",
    "#### 4.Undersample majority class.\n",
    "#### 5.Generate synthetic samples.**"
   ]
  },
  {
   "cell_type": "markdown",
   "metadata": {},
   "source": [
    "## **Q7:-** \n",
    "### **Can you discuss some common issues and challenges that may arise when implementing logistic regression, and how they can be addressed? For example, what can be done if there is multicollinearity among the independent variables?**"
   ]
  },
  {
   "cell_type": "markdown",
   "metadata": {},
   "source": [
    "### **Ans:-**"
   ]
  },
  {
   "cell_type": "markdown",
   "metadata": {},
   "source": [
    "### **The presence of data values that deviate from the expected range in the dataset may lead to incorrect results as this algorithm is sensitive to outliers. Logistic Regression requires a large dataset and also sufficient training examples for all the categories it needs to identify.**"
   ]
  },
  {
   "cell_type": "markdown",
   "metadata": {},
   "source": [
    "### **Multicollinearity:-**\n",
    "\n",
    "#### **Issue:-**\n",
    "##### Multicollinearity occurs when two or more independent variables in the logistic regression model are highly correlated with each other. This can make it difficult to determine the individual effect of each predictor variable on the target variable.\n",
    "#### **Solution:-**\n",
    "##### Identify correlated variables: Use correlation matrices or variance inflation factor (VIF) analysis to identify which variables are highly correlated.\n",
    "##### Remove or combine variables: Consider removing one of the correlated variables or combining them into a single composite variable. The choice of which variable to remove should be based on domain knowledge or the specific research question.\n",
    "#### **Regularization:-** \n",
    "##### Techniques like L1 regularization (Lasso) or L2 regularization (Ridge) can be used to mitigate multicollinearity by adding a penalty term to the logistic regression cost function.**"
   ]
  }
 ],
 "metadata": {
  "language_info": {
   "name": "python"
  },
  "orig_nbformat": 4
 },
 "nbformat": 4,
 "nbformat_minor": 2
}
