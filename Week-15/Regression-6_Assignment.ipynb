{
 "cells": [
  {
   "cell_type": "markdown",
   "metadata": {},
   "source": [
    "## **Q1:-** \n",
    "### **What are the key steps involved in building an end-to-end web application, from development to deployment on the cloud?**"
   ]
  },
  {
   "cell_type": "markdown",
   "metadata": {},
   "source": [
    "### **Ans:-**"
   ]
  },
  {
   "cell_type": "markdown",
   "metadata": {},
   "source": [
    "### **1.Requirements Gathering**\n",
    "### **2.Architecture and Design**\n",
    "### **3.Frontend Development**\n",
    "### **4.Backend Development**\n",
    "### **5.API Development**\n",
    "### **6.Database Setup**\n",
    "### **7.Authentication and Authorization**\n",
    "### **8.Testing**\n",
    "### **9.Deployment**\n",
    "### **10.Cloud Service Selection**\n",
    "### **11.Deployment to Cloud**\n",
    "### **12.Domain and SSL Setup**\n",
    "### **13.Monitoring and Logging**\n",
    "### **14.Backup and Disaster Recovery**\n",
    "### **15.Security**\n",
    "### **16.Documentation**\n",
    "### **17.User Acceptance Testing (UAT)**\n",
    "### **18.Launch**\n",
    "### **19.Performance Optimization**"
   ]
  },
  {
   "cell_type": "markdown",
   "metadata": {},
   "source": [
    "## **Q2:-** \n",
    "### **Explain the difference between traditional web hosting and cloud hosting.**"
   ]
  },
  {
   "cell_type": "markdown",
   "metadata": {},
   "source": [
    "### **Ans:-**"
   ]
  },
  {
   "cell_type": "markdown",
   "metadata": {},
   "source": [
    "### **Cloud hosting allows for flexible pricing structures, where users only pay for their server resources, resulting in a highly cost-effective solution. On the other hand, traditional hosting often comes with fixed prices, which may only sometimes be suitable given changing website traffic patterns.**"
   ]
  },
  {
   "cell_type": "markdown",
   "metadata": {},
   "source": [
    "## **Q3:-** \n",
    "### **How do you choose the right cloud provider for your application deployment, and what factors should you consider?**"
   ]
  },
  {
   "cell_type": "markdown",
   "metadata": {},
   "source": [
    "### **Ans:-**"
   ]
  },
  {
   "cell_type": "markdown",
   "metadata": {},
   "source": [
    "### **How to pick a cloud service provider? Use these 8 key areas for consideration.**\n",
    "#### **1.Certifications & Standards.**\n",
    "#### **2.Technologies & Service Roadmap.**\n",
    "#### **3.Data Security, Data Governance and Business policies.**\n",
    "#### **4.Service Dependencies & Partnerships.**\n",
    "#### **5.Contracts, Commercials & SLAs.**\n",
    "#### **6.Reliability & Performance.**\n",
    "#### **7.Migration Support, Vendor Lock in & Exit Planning**\n",
    "#### **8.Business health & Company profile**"
   ]
  },
  {
   "cell_type": "markdown",
   "metadata": {},
   "source": [
    "## **Q4:-** \n",
    "### **How do you design and build a responsive user interface for your web application, and what are some best practices to follow?**"
   ]
  },
  {
   "cell_type": "markdown",
   "metadata": {},
   "source": [
    "### **Ans:-**"
   ]
  },
  {
   "cell_type": "markdown",
   "metadata": {},
   "source": [
    "### **1.Planning and Wireframing**\n",
    "### **2.Use a Mobile-First Approach**\n",
    "\n",
    "### **3.HTML and CSS**\n",
    "\n",
    "### **4.Responsive Design Best Practices**\n",
    "\n",
    "### **5.Mobile Navigation**\n",
    "\n",
    "### **6.Testing and Debugging**\n",
    "\n",
    "\n",
    "### **7.Performance Optimization**\n",
    "\n",
    "### **8.Accessibility**\n",
    "### **9.Progressive Enhancement**\n",
    "### **10.Cross-Browser Compatibility**\n",
    "\n"
   ]
  },
  {
   "cell_type": "markdown",
   "metadata": {},
   "source": [
    "## **Q5:-**  \n",
    "### **How do you integrate the machine learning model with the user interface for the Algerian Forest Fires project(which we discussed in class), and what APIs or libraries can you use for this purpose?**"
   ]
  },
  {
   "cell_type": "markdown",
   "metadata": {},
   "source": [
    "### **Ans:-**"
   ]
  },
  {
   "cell_type": "markdown",
   "metadata": {},
   "source": [
    "### integrate the machine learning model with the user interface for the Algerian Forest Fires project(which we discussed in class):-\n",
    "#### **Web Application:-**\n",
    "##### You can create a web-based interface using frameworks like Flask. The machine learning model can be hosted on a server, and the interface can send requests to the model for predictions."
   ]
  },
  {
   "cell_type": "code",
   "execution_count": 1,
   "metadata": {},
   "outputs": [],
   "source": [
    "# from flask import Flask,render_template\n",
    "# app = Flask(__name__)\n",
    "# @app.route('/')\n",
    "# def main():\n",
    "#     pass\n",
    "# if __name__==\"__main__\":\n",
    "#     app.run(host=\"0.0.0.0\")"
   ]
  },
  {
   "cell_type": "markdown",
   "metadata": {},
   "source": [
    "### **APIs or libraries:-**\n",
    "#### **numpy**\n",
    "##### Numpy libraries is used for calculation and perforn mathmatical intutions.\n",
    "#### **pandas**\n",
    "##### Pandas libraries is used for Dataset reading and perform some computation and make Dataframe**\n",
    "#### **scikit-learn**\n",
    "##### scikit-learn is most importent libraries which is perform machine learning algorithms and predect overall resultant of our Data\n",
    "#### **Flask**\n",
    "##### Flask is most import API which is used to connect our model to web api or pages by which we can input the data from user and predect output Flask integrate the machine learning model with the user interface"
   ]
  }
 ],
 "metadata": {
  "kernelspec": {
   "display_name": "base",
   "language": "python",
   "name": "python3"
  },
  "language_info": {
   "codemirror_mode": {
    "name": "ipython",
    "version": 3
   },
   "file_extension": ".py",
   "mimetype": "text/x-python",
   "name": "python",
   "nbconvert_exporter": "python",
   "pygments_lexer": "ipython3",
   "version": "3.11.5"
  }
 },
 "nbformat": 4,
 "nbformat_minor": 2
}
