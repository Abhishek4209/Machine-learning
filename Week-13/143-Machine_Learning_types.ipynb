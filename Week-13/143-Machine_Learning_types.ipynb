{
 "cells": [
  {
   "cell_type": "markdown",
   "metadata": {},
   "source": [
    "# **Types of Machine learning:-**"
   ]
  },
  {
   "cell_type": "markdown",
   "metadata": {},
   "source": [
    "## **1.Supervised Machine Learning**\n",
    "## **You know that what are your output value**\n",
    "## **यदि एक वाक्य में कहा जाए तो Supervised Learning एक प्रक्रिया है, जिसके अन्तर्गत मशीन को Labelled Data द्वारा Trained किया जाता है, ताकि मशीन की Accuracy बढ़ाई जा सके और भविष्य में वह बिना मानवीय हस्तक्षेप के यानि Individually किसी नए डाटा को Analyse कर सही Predictions कर सके।**\n",
    "##### **Labeled Data यानि ऐसा डाटा जो मशीन को Trained करने के लिए तैयार किया गया हो, यह एक प्रकार का Sample होता है, जिसमे डाटा का Output पहले से ही निर्धारित रहता है, यानि मशीन को दिए जा रहे सैंपल डाटा में सवालों के साथ-साथ उनके कुछ सही जवाब भी Tagged रहते हैं, ताकि मशीन उस डाटा की पहचान कर सके।**\n",
    "### **Supervised learning is a machine learning technique that is widely used in various fields such as finance, healthcare, marketing, and more. It is a form of machine learning in which the algorithm is trained on labeled data to make predictions or decisions based on the data inputs.**\n",
    "## **(i)-Regression:-**\n",
    "#### **In regression, the target variable is a continuous value. The goal of regression is to predict the value of the target variable based on the input variables. Linear regression, polynomial regression, and decision trees are some of the examples of regression algorithms.**\n"
   ]
  },
  {
   "cell_type": "markdown",
   "metadata": {},
   "source": [
    "## **🔴In regression problem our output value is continuous value**"
   ]
  },
  {
   "cell_type": "markdown",
   "metadata": {},
   "source": [
    "##### **मशीन लर्निंग में, Regression एक तकनीक है जिसका इस्तेमाल independent variable और dependent variable के बीच की रिलेशनशिप को खोजने के लिए किया जाता है। दूसरे शब्दों में कहें तो, “रिग्रेशन supervised learning की एक तकनीक है जो यह बताती है कि dependent variable की वैल्यू independent variable के अनुसार किस प्रकार बदलती है।**"
   ]
  },
  {
   "cell_type": "markdown",
   "metadata": {},
   "source": [
    "## **Types of Regression :-**\n",
    "## 1.Linear Regression.\n",
    "## 2.Logistic Regression.\n",
    "## 3.Polynomial Regression.\n",
    "## 4.Ridge Regression.\n",
    "## 5.Lasso Regression.\n",
    "## 6.Quantile Regression.\n",
    "## 7.Bayesian Linear Regression.\n",
    "## 8.Principal Components Regression."
   ]
  },
  {
   "cell_type": "markdown",
   "metadata": {},
   "source": [
    "## **(ii)-Classification:-**\n",
    "## **🔴In classification problem our output data set is categorical data set**\n",
    "### **In classification, the target variable is a categorical value. The goal of classification is to predict the class or category of the target variable based on the input variables. Some examples of classification algorithms include logistic regression, decision trees, support vector machines, and neural networks.**"
   ]
  },
  {
   "cell_type": "markdown",
   "metadata": {},
   "source": [
    "# **2.Unsupervised machine Learning:-**\n",
    "### **Unlabled data set:-**"
   ]
  },
  {
   "cell_type": "markdown",
   "metadata": {},
   "source": [
    "### **Costmer segmentation problem:**"
   ]
  },
  {
   "cell_type": "markdown",
   "metadata": {},
   "source": [
    "## **🔴You do not know about your output value you can can create a cluster for build your model**"
   ]
  },
  {
   "cell_type": "markdown",
   "metadata": {},
   "source": [
    "## **🔴Clustering**"
   ]
  },
  {
   "cell_type": "markdown",
   "metadata": {},
   "source": [
    "# **3.Semisupervised machine learnign:-**"
   ]
  },
  {
   "cell_type": "markdown",
   "metadata": {},
   "source": []
  },
  {
   "cell_type": "markdown",
   "metadata": {},
   "source": [
    "# **4.Reinforcement machine learning:-**"
   ]
  },
  {
   "cell_type": "markdown",
   "metadata": {},
   "source": [
    "#### **🔴Reinforcement Learning मशीन लर्निंग की ही एक तकनीक है, जिसमे Actions को बार-बार दोहराकर और Reward देकर एक सॉफ्टवेयर एजेंट को इस प्रकार Trained किया जाता है, की वह Environment के अनुसार सही Action लेने में सक्षम हो सके।**\n",
    "\n",
    "#### **दूसरे शब्दो में कहें तो यह एक Feedback आधारित मशीन लर्निंग तकनीक है, जिसमे एक सॉफ्टवेयर एजेंट Environment में विभिन्न Actions को Perform कर और उनका परिणाम देखकर उस Environment के अनुसार उचित व्यवहार करना या Action लेना सीखता है।**\n",
    "\n",
    "#### **क्योंकि यह एक Feedback आधारित लर्निंग तकनीक है, तो इसमें माहौल अनुसार सही व्यवहार करने पर एजेंट को Reward की प्राप्ति होती है, जो की एजेंट के लिए एक अच्छा Feedback होता है, और गलत करने पर Penelty भी दी जाती है, जिससे समय के साथ एजेंट सही Action लेना सीख जाता है। Reinforcement Learning में सॉफ्टवेयर एजेंट बिना किसी इंसानी हस्तक्षेप के अपने खुद के अनुभव और Feedback के आधार पर व्यवहार करना सीखता है।**"
   ]
  }
 ],
 "metadata": {
  "language_info": {
   "name": "python"
  },
  "orig_nbformat": 4
 },
 "nbformat": 4,
 "nbformat_minor": 2
}
