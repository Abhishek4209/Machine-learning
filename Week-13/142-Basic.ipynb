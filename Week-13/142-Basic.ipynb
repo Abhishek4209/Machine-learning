{
 "cells": [
  {
   "cell_type": "markdown",
   "metadata": {},
   "source": [
    "# **Artificial Intelligence:-**\n",
    "####  **the ability of a digital computer or computer-controlled robot to perform tasks commonly associated with intelligent beings**"
   ]
  },
  {
   "cell_type": "markdown",
   "metadata": {},
   "source": [
    "# **Machine Learning:-**\n",
    "### **a branch of artificial intelligence (AI) and computer science which focuses on the use of data and algorithms to imitate the way that humans learn, gradually improving its accuracy.**\n",
    "## **Ex:- Prediction for any data**"
   ]
  },
  {
   "cell_type": "markdown",
   "metadata": {},
   "source": [
    "# **Deep Learning:-**\n",
    "### **Deep learning is a method in artificial intelligence (AI) that teaches computers to process data in a way that is inspired by the human brain. Deep learning models can recognize complex patterns in pictures, text, sounds, and other data to produce accurate insights and predictions.**\n",
    "## **Ex:- Recognised anything**"
   ]
  },
  {
   "cell_type": "markdown",
   "metadata": {},
   "source": [
    "# **Characterstics of Machine learning:-**\n",
    " ##### The potential to perform Automated Data Visualization.\n",
    " ##### Precise Data Analysis.\n",
    " ##### Business Intelligence at it's Finest. "
   ]
  },
  {
   "cell_type": "markdown",
   "metadata": {},
   "source": [
    "# **Advantages of Machine Learning:-**\n",
    "#### Resolving complex problems.\n",
    "#### Automation for everything .\n",
    "#### Trends and pattern identification.\n",
    "#### Wide Range of application."
   ]
  },
  {
   "cell_type": "markdown",
   "metadata": {},
   "source": [
    "# **Disadvantages of Machine Learning:-**\n",
    "#### Data Acquisition.\n",
    "#### Highly Error-Prone.\n",
    "#### Algorithm Selection.\n",
    "#### Time-Consuming."
   ]
  },
  {
   "cell_type": "markdown",
   "metadata": {},
   "source": [
    "# **Classification of Machine learning:-**\n",
    "### Supervised Learning\n",
    "### Unsupervised Learning\n",
    "### Reinforcement learning "
   ]
  }
 ],
 "metadata": {
  "language_info": {
   "name": "python"
  },
  "orig_nbformat": 4
 },
 "nbformat": 4,
 "nbformat_minor": 2
}
