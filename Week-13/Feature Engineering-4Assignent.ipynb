{
 "cells": [
  {
   "cell_type": "markdown",
   "metadata": {},
   "source": [
    "## **Q1:-**  \n",
    "### **What is data encoding? How is it useful in data science?**"
   ]
  },
  {
   "cell_type": "markdown",
   "metadata": {},
   "source": [
    "## **Ans:-**"
   ]
  },
  {
   "cell_type": "markdown",
   "metadata": {},
   "source": [
    "### **Encoding is the process of converting the data or a given sequence of characters, symbols, alphabets etc., into a specified format, for the secured transmission of data. Decoding is the reverse process of encoding which is to extract the information from the converted format.**"
   ]
  },
  {
   "cell_type": "markdown",
   "metadata": {},
   "source": [
    "## **Q2:-**  \n",
    "### **What is nominal encoding? Provide an example of how you would use it in a real-world scenario.**"
   ]
  },
  {
   "cell_type": "markdown",
   "metadata": {},
   "source": [
    "### **Ans:-**"
   ]
  },
  {
   "cell_type": "markdown",
   "metadata": {},
   "source": [
    "### **When we have a feature where variables are just names and there is no order or rank to this variable's feature. For example: City of person lives in, Gender of person, Marital Status, etc… In the above example, We do not have any order or rank, or sequence.**"
   ]
  },
  {
   "cell_type": "markdown",
   "metadata": {},
   "source": [
    "## **Q3:-** \n",
    "### **In what situations is nominal encoding preferred over one-hot encoding? Provide a practical example.**"
   ]
  },
  {
   "cell_type": "markdown",
   "metadata": {},
   "source": [
    "### **Ans:-**"
   ]
  },
  {
   "cell_type": "markdown",
   "metadata": {},
   "source": [
    "### **Nominal encoding is preferred over one-hot encoding in situations where you have categorical data with a large number of unique categories or levels. One-hot encoding can result in a high-dimensional and sparse feature space when you have many categories, which can lead to several issues, including increased computational complexity and the curse of dimensionality. In such cases, nominal encoding can be a more practical and efficient choice.**"
   ]
  },
  {
   "cell_type": "markdown",
   "metadata": {},
   "source": [
    "#### **Example: Movie Genre Classification:-**\n",
    "\n",
    "##### Suppose you are building a machine learning model to classify movies into different genres based on various features, including genre information. The genre attribute contains categories such as Action, Comedy, Drama, Horror, Romance, Science Fiction, and many more.\n",
    "\n",
    "##### One-Hot Encoding Approach:\n",
    "###### If you were to use one-hot encoding for the genre attribute, you would create a binary column for each genre category. In this example, with around 20 or more genres, you would end up with 20 or more binary columns. If a movie belongs to multiple genres, many of these columns would be set to 1, making the dataset very sparse.\n",
    "\n",
    "##### The issues with one-hot encoding in this scenario are:\n",
    "\n",
    "##### High Dimensionality: The number of columns grows with the number of unique genres, making the dataset high-dimensional.\n",
    "\n",
    "##### Sparsity: Most movies belong to only a few genres, leading to sparse data with many zeros.\n",
    "\n",
    "##### Increased Complexity: The increased number of features can slow down training and require more computational resources.\n",
    "\n",
    "##### Nominal Encoding Approach:\n",
    "###### With nominal encoding, you represent the genre attribute using integers or other encoding techniques that preserve the ordinality or hierarchy among categories. For example:\n",
    "\n",
    "##### Action: 1\n",
    "##### Comedy: 2\n",
    "##### Drama: 3\n",
    "##### Horror: 4\n",
    "##### Romance: 5\n",
    "##### Science Fiction: 6\n",
    "##### By using nominal encoding, you reduce the dimensionality of the feature space to just one column, making it much more manageable and computationally efficient.\n",
    "\n",
    "##### In this movie genre classification scenario, nominal encoding is preferred because it avoids the issues associated with one-hot encoding, such as high dimensionality and sparsity, while still providing a meaningful representation of the categorical data."
   ]
  },
  {
   "cell_type": "markdown",
   "metadata": {},
   "source": [
    "## **Q4:-** \n",
    "### **Suppose you have a dataset containing categorical data with 5 unique values. Which encoding technique would you use to transform this data into a format suitable for machine learning algorithms? Explain why you made this choice.**"
   ]
  },
  {
   "cell_type": "markdown",
   "metadata": {},
   "source": [
    "### **Ans:-**"
   ]
  },
  {
   "cell_type": "markdown",
   "metadata": {},
   "source": [
    "### **When you have categorical data with only 5 unique values, you can use one-hot encoding to transform this data into a format suitable for machine learning algorithms. One-hot encoding is a suitable choice in this scenario for the following reasons:**"
   ]
  },
  {
   "cell_type": "markdown",
   "metadata": {},
   "source": [
    "#### **1.Low Dimensionality:**\n",
    "#### **2.Preservation of Information:**\n",
    "#### **3.Compatibility with Machine Learning Algorithms:**\n",
    "#### **4.Interpretability:**"
   ]
  },
  {
   "cell_type": "code",
   "execution_count": 72,
   "metadata": {},
   "outputs": [],
   "source": [
    "from sklearn.preprocessing import OneHotEncoder\n",
    "encoder = OneHotEncoder()"
   ]
  },
  {
   "cell_type": "markdown",
   "metadata": {},
   "source": [
    "## **Q5:-** \n",
    "### **In a machine learning project, you have a dataset with 1000 rows and 5 columns. Two of the columns are categorical, and the remaining three columns are numerical. If you were to use nominal encoding to transform the categorical data, how many new columns would be created? Show your calculations.**"
   ]
  },
  {
   "cell_type": "markdown",
   "metadata": {},
   "source": [
    "### **Ans:-**"
   ]
  },
  {
   "cell_type": "markdown",
   "metadata": {},
   "source": [
    "### **If you use nominal encoding to transform two categorical columns in a dataset, you'll create a new column for each unique category within each of the two categorical columns.**\n",
    "\n",
    "### **Let's assume the following:**\n",
    "\n",
    "### **1.The first categorical column has 'n' unique categories.**\n",
    "### **2.The second categorical column has 'm' unique categories.**\n",
    "#### For each of these two categorical columns, you'll create 'n' and 'm' new columns, respectively.\n",
    "\n",
    "### In your case:\n",
    "\n",
    "### **1.The first categorical column has 5 unique categories.**\n",
    "### **2.The second categorical column has 5 unique categories.**\n",
    "#### So, for the first categorical column, you'd create 5 new columns, and for the second categorical column, you'd also create 5 new columns.\n",
    "\n",
    "#### Therefore, in total, you would create 5 + 5 = 10 new columns using nominal encoding to transform the categorical data in your dataset."
   ]
  },
  {
   "cell_type": "markdown",
   "metadata": {},
   "source": [
    "## **Q6:-** \n",
    "### **You are working with a dataset containing information about different types of animals, including their species, habitat, and diet. Which encoding technique would you use to transform the categorical data into a format suitable for machine learning algorithms? Justify your answer.**"
   ]
  },
  {
   "cell_type": "markdown",
   "metadata": {},
   "source": [
    "### **Ans:-**"
   ]
  },
  {
   "cell_type": "markdown",
   "metadata": {},
   "source": [
    "### **1.One-Hot Encoding:**\n",
    "#### **Justification: One-hot encoding is appropriate when dealing with nominal categorical variables (categories with no intrinsic order). It preserves the categorical information, avoids introducing artificial ordinality, and is compatible with most machine learning algorithms.**"
   ]
  },
  {
   "cell_type": "markdown",
   "metadata": {},
   "source": [
    "### **2.Label Encoding:**\n",
    "#### **Justification: Label encoding is suitable when there's an inherent order among categories. It allows the model to capture the ordinality but assumes a linear relationship between categories, which may not always be accurate.**"
   ]
  },
  {
   "cell_type": "markdown",
   "metadata": {},
   "source": [
    "### **3.Target Encoding (Mean Encoding):**\n",
    "#### **Justification: Target encoding is suitable when dealing with high cardinality categorical variables and when there is a meaningful relationship between the categorical variable and the target variable**"
   ]
  },
  {
   "cell_type": "markdown",
   "metadata": {},
   "source": [
    "## **Q7:-**\n",
    "### **You are working on a project that involves predicting customer churn for a telecommunications company. You have a dataset with 5 features, including the customer's gender, age, contract type, monthly charges, and tenure. Which encoding technique(s) would you use to transform the categorical data into numerical data? Provide a step-by-step explanation of how you would implement the encoding.**"
   ]
  },
  {
   "cell_type": "markdown",
   "metadata": {},
   "source": [
    "### **Ans:-**"
   ]
  },
  {
   "cell_type": "code",
   "execution_count": 73,
   "metadata": {},
   "outputs": [
    {
     "name": "stdout",
     "output_type": "stream",
     "text": [
      "   gender  age contract_type  monthly_charges  tenure\n",
      "0  female   40      two-year            52.92      56\n",
      "1    male   42      two-year            45.93      31\n",
      "2  female   48      one-year            76.45      31\n",
      "3    male   22       monthly            47.73      36\n",
      "4    male   35      two-year            40.52      33\n"
     ]
    }
   ],
   "source": [
    "import pandas as pd\n",
    "import random\n",
    "num_rows = 1000\n",
    "genders = ['male', 'female']\n",
    "gender_data = [random.choice(genders) for _ in range(num_rows)]\n",
    "age_data = [random.randint(18, 70) for _ in range(num_rows)]\n",
    "contract_types = ['monthly', 'one-year', 'two-year']\n",
    "contract_data = [random.choice(contract_types) for _ in range(num_rows)]\n",
    "monthly_charges_data = [round(random.uniform(30, 100), 2) for _ in range(num_rows)]\n",
    "tenure_data = [random.randint(1, 60) for _ in range(num_rows)]\n",
    "df = pd.DataFrame({\n",
    "    'gender': gender_data,\n",
    "    'age': age_data,\n",
    "    'contract_type': contract_data,\n",
    "    'monthly_charges': monthly_charges_data,\n",
    "    'tenure': tenure_data\n",
    "})\n",
    "print(df.head())"
   ]
  },
  {
   "cell_type": "markdown",
   "metadata": {},
   "source": [
    "### **Step 1: Data Preprocessing**\n",
    "### **Step 2: Identifying Categorical Features**\n",
    "### **Step 3: Choose Encoding Techniques**\n",
    "#### **1.Label Encoding for Binary Categorical Variables (Gender):**"
   ]
  },
  {
   "cell_type": "code",
   "execution_count": 74,
   "metadata": {},
   "outputs": [],
   "source": [
    "from sklearn.preprocessing import LabelEncoder\n",
    "\n",
    "label_encoder = LabelEncoder()\n",
    "df['gender_encoded'] = label_encoder.fit_transform(df['gender'])"
   ]
  },
  {
   "cell_type": "markdown",
   "metadata": {},
   "source": [
    "#### **2.One-Hot Encoding for Multi-Class Categorical Variables (Contract Type):**"
   ]
  },
  {
   "cell_type": "code",
   "execution_count": 75,
   "metadata": {},
   "outputs": [],
   "source": [
    "df = pd.get_dummies(df, columns=['contract_type'], prefix=['contract'])"
   ]
  },
  {
   "cell_type": "markdown",
   "metadata": {},
   "source": [
    "### **Step 4: Drop the Original Categorical Columns**"
   ]
  },
  {
   "cell_type": "code",
   "execution_count": 76,
   "metadata": {},
   "outputs": [
    {
     "data": {
      "text/html": [
       "<div>\n",
       "<style scoped>\n",
       "    .dataframe tbody tr th:only-of-type {\n",
       "        vertical-align: middle;\n",
       "    }\n",
       "\n",
       "    .dataframe tbody tr th {\n",
       "        vertical-align: top;\n",
       "    }\n",
       "\n",
       "    .dataframe thead th {\n",
       "        text-align: right;\n",
       "    }\n",
       "</style>\n",
       "<table border=\"1\" class=\"dataframe\">\n",
       "  <thead>\n",
       "    <tr style=\"text-align: right;\">\n",
       "      <th></th>\n",
       "      <th>age</th>\n",
       "      <th>monthly_charges</th>\n",
       "      <th>tenure</th>\n",
       "      <th>gender_encoded</th>\n",
       "      <th>contract_monthly</th>\n",
       "      <th>contract_one-year</th>\n",
       "      <th>contract_two-year</th>\n",
       "    </tr>\n",
       "  </thead>\n",
       "  <tbody>\n",
       "    <tr>\n",
       "      <th>0</th>\n",
       "      <td>40</td>\n",
       "      <td>52.92</td>\n",
       "      <td>56</td>\n",
       "      <td>0</td>\n",
       "      <td>False</td>\n",
       "      <td>False</td>\n",
       "      <td>True</td>\n",
       "    </tr>\n",
       "    <tr>\n",
       "      <th>1</th>\n",
       "      <td>42</td>\n",
       "      <td>45.93</td>\n",
       "      <td>31</td>\n",
       "      <td>1</td>\n",
       "      <td>False</td>\n",
       "      <td>False</td>\n",
       "      <td>True</td>\n",
       "    </tr>\n",
       "    <tr>\n",
       "      <th>2</th>\n",
       "      <td>48</td>\n",
       "      <td>76.45</td>\n",
       "      <td>31</td>\n",
       "      <td>0</td>\n",
       "      <td>False</td>\n",
       "      <td>True</td>\n",
       "      <td>False</td>\n",
       "    </tr>\n",
       "    <tr>\n",
       "      <th>3</th>\n",
       "      <td>22</td>\n",
       "      <td>47.73</td>\n",
       "      <td>36</td>\n",
       "      <td>1</td>\n",
       "      <td>True</td>\n",
       "      <td>False</td>\n",
       "      <td>False</td>\n",
       "    </tr>\n",
       "    <tr>\n",
       "      <th>4</th>\n",
       "      <td>35</td>\n",
       "      <td>40.52</td>\n",
       "      <td>33</td>\n",
       "      <td>1</td>\n",
       "      <td>False</td>\n",
       "      <td>False</td>\n",
       "      <td>True</td>\n",
       "    </tr>\n",
       "    <tr>\n",
       "      <th>...</th>\n",
       "      <td>...</td>\n",
       "      <td>...</td>\n",
       "      <td>...</td>\n",
       "      <td>...</td>\n",
       "      <td>...</td>\n",
       "      <td>...</td>\n",
       "      <td>...</td>\n",
       "    </tr>\n",
       "    <tr>\n",
       "      <th>995</th>\n",
       "      <td>27</td>\n",
       "      <td>87.80</td>\n",
       "      <td>32</td>\n",
       "      <td>1</td>\n",
       "      <td>False</td>\n",
       "      <td>False</td>\n",
       "      <td>True</td>\n",
       "    </tr>\n",
       "    <tr>\n",
       "      <th>996</th>\n",
       "      <td>65</td>\n",
       "      <td>89.01</td>\n",
       "      <td>22</td>\n",
       "      <td>1</td>\n",
       "      <td>True</td>\n",
       "      <td>False</td>\n",
       "      <td>False</td>\n",
       "    </tr>\n",
       "    <tr>\n",
       "      <th>997</th>\n",
       "      <td>64</td>\n",
       "      <td>75.28</td>\n",
       "      <td>56</td>\n",
       "      <td>1</td>\n",
       "      <td>False</td>\n",
       "      <td>True</td>\n",
       "      <td>False</td>\n",
       "    </tr>\n",
       "    <tr>\n",
       "      <th>998</th>\n",
       "      <td>58</td>\n",
       "      <td>77.07</td>\n",
       "      <td>59</td>\n",
       "      <td>1</td>\n",
       "      <td>False</td>\n",
       "      <td>True</td>\n",
       "      <td>False</td>\n",
       "    </tr>\n",
       "    <tr>\n",
       "      <th>999</th>\n",
       "      <td>64</td>\n",
       "      <td>37.77</td>\n",
       "      <td>54</td>\n",
       "      <td>0</td>\n",
       "      <td>False</td>\n",
       "      <td>False</td>\n",
       "      <td>True</td>\n",
       "    </tr>\n",
       "  </tbody>\n",
       "</table>\n",
       "<p>1000 rows × 7 columns</p>\n",
       "</div>"
      ],
      "text/plain": [
       "     age  monthly_charges  tenure  gender_encoded  contract_monthly  \\\n",
       "0     40            52.92      56               0             False   \n",
       "1     42            45.93      31               1             False   \n",
       "2     48            76.45      31               0             False   \n",
       "3     22            47.73      36               1              True   \n",
       "4     35            40.52      33               1             False   \n",
       "..   ...              ...     ...             ...               ...   \n",
       "995   27            87.80      32               1             False   \n",
       "996   65            89.01      22               1              True   \n",
       "997   64            75.28      56               1             False   \n",
       "998   58            77.07      59               1             False   \n",
       "999   64            37.77      54               0             False   \n",
       "\n",
       "     contract_one-year  contract_two-year  \n",
       "0                False               True  \n",
       "1                False               True  \n",
       "2                 True              False  \n",
       "3                False              False  \n",
       "4                False               True  \n",
       "..                 ...                ...  \n",
       "995              False               True  \n",
       "996              False              False  \n",
       "997               True              False  \n",
       "998               True              False  \n",
       "999              False               True  \n",
       "\n",
       "[1000 rows x 7 columns]"
      ]
     },
     "execution_count": 76,
     "metadata": {},
     "output_type": "execute_result"
    }
   ],
   "source": [
    "df.drop([\"gender\"],axis=1)"
   ]
  },
  {
   "cell_type": "markdown",
   "metadata": {},
   "source": [
    "### **Step 5: Model Training**"
   ]
  },
  {
   "cell_type": "code",
   "execution_count": 77,
   "metadata": {},
   "outputs": [],
   "source": [
    "x=df[[\"age\",\"tenure\",\"gender_encoded\",\"contract_monthly\",\"contract_one-year\",\"contract_two-year\"]]\n",
    "y=df[[\"monthly_charges\"]]"
   ]
  },
  {
   "cell_type": "code",
   "execution_count": 78,
   "metadata": {},
   "outputs": [],
   "source": [
    "from sklearn.model_selection import train_test_split\n",
    "x_train,x_test,y_train,y_test = train_test_split(x,y,test_size=0.20,random_state=0)"
   ]
  }
 ],
 "metadata": {
  "kernelspec": {
   "display_name": "Python 3",
   "language": "python",
   "name": "python3"
  },
  "language_info": {
   "codemirror_mode": {
    "name": "ipython",
    "version": 3
   },
   "file_extension": ".py",
   "mimetype": "text/x-python",
   "name": "python",
   "nbconvert_exporter": "python",
   "pygments_lexer": "ipython3",
   "version": "3.11.3"
  },
  "orig_nbformat": 4
 },
 "nbformat": 4,
 "nbformat_minor": 2
}
